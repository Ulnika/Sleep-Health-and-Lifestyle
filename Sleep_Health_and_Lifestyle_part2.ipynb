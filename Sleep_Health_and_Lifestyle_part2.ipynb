{
  "nbformat": 4,
  "nbformat_minor": 0,
  "metadata": {
    "colab": {
      "provenance": [],
      "authorship_tag": "ABX9TyO31KuFkkN0DUcsTHp/HFr2",
      "include_colab_link": true
    },
    "kernelspec": {
      "name": "python3",
      "display_name": "Python 3"
    },
    "language_info": {
      "name": "python"
    }
  },
  "cells": [
    {
      "cell_type": "markdown",
      "metadata": {
        "id": "view-in-github",
        "colab_type": "text"
      },
      "source": [
        "<a href=\"https://colab.research.google.com/github/Ulnika/Sleep-Health-and-Lifestyle/blob/main/Sleep_Health_and_Lifestyle_part2.ipynb\" target=\"_parent\"><img src=\"https://colab.research.google.com/assets/colab-badge.svg\" alt=\"Open In Colab\"/></a>"
      ]
    },
    {
      "cell_type": "markdown",
      "source": [
        "# Capstone 2. Sleep Health and Lifestyle\n",
        "\n",
        "\n",
        "Goal: visualize data for two genders in each occupation and show how different factors effect sleep quality and sleep disorders."
      ],
      "metadata": {
        "id": "SPfGVu5bHdEm"
      }
    },
    {
      "cell_type": "markdown",
      "source": [
        "Data: Survey data of 374 people on sleep health and lifestyle. Useful for understanding sleep health.\n",
        "\n",
        "https://www.kaggle.com/datasets/uom190346a/sleep-health-and-lifestyle-dataset"
      ],
      "metadata": {
        "id": "PN6vRrndHW2V"
      }
    },
    {
      "cell_type": "markdown",
      "source": [
        "Previously I demonstrated relationships between average sleep duration, average stress level, average physical activite and quality of sleep across various occupations."
      ],
      "metadata": {
        "id": "RE-uCMuy_y5B"
      }
    },
    {
      "cell_type": "markdown",
      "source": [
        "## Importing and Displaying Data"
      ],
      "metadata": {
        "id": "eSb4nxjhHtPW"
      }
    },
    {
      "cell_type": "code",
      "source": [
        "import pandas as pd\n",
        "data = pd.read_csv('Sleep_health_and_lifestyle_dataset.csv')\n",
        "data = data.fillna('NA')\n",
        "data.head()"
      ],
      "metadata": {
        "id": "vof5qctQHyDc"
      },
      "execution_count": null,
      "outputs": []
    },
    {
      "cell_type": "code",
      "source": [
        "data.groupby(['Occupation']).size().sort_values(ascending=False)"
      ],
      "metadata": {
        "id": "x3GeofYbIEPU"
      },
      "execution_count": null,
      "outputs": []
    },
    {
      "cell_type": "markdown",
      "source": [
        "## Assumption to exclude underrepresented groups\n",
        "Previously, I demonstrated that some occupations are underrepresented in the provided dataset, such as:\n",
        "\n",
        "scientists,\n",
        "software engineers,\n",
        "sales representatives,\n",
        "managers.\n",
        "For further analysis, I'll create a dataset based on the original one but excluding the data of listed occupations."
      ],
      "metadata": {
        "id": "-pUbD9_YAjVk"
      }
    },
    {
      "cell_type": "code",
      "source": [
        "data = data[~data['Occupation'].isin(['Scientist', 'Software Engineer', 'Sales Representative', 'Manager'])]\n",
        "\n",
        "print(data['Occupation'].value_counts())"
      ],
      "metadata": {
        "id": "ghmU6UkDILjj"
      },
      "execution_count": null,
      "outputs": []
    },
    {
      "cell_type": "code",
      "source": [
        "data = data.drop(columns=['Person ID'])\n",
        "data.head()"
      ],
      "metadata": {
        "id": "45MZ-gRyIpMh"
      },
      "execution_count": null,
      "outputs": []
    },
    {
      "cell_type": "markdown",
      "source": [
        "## Visualization of Quality of Sleep by Occupation for Male and Female participants"
      ],
      "metadata": {
        "id": "qRn7TpHHAxAY"
      }
    },
    {
      "cell_type": "code",
      "source": [
        "data['BMI Category'].unique()"
      ],
      "metadata": {
        "id": "7z7ZB1Kh5vSG"
      },
      "execution_count": null,
      "outputs": []
    },
    {
      "cell_type": "code",
      "source": [
        "data['Sleep Disorder'].unique()"
      ],
      "metadata": {
        "id": "_QxMmLmV-bil"
      },
      "execution_count": null,
      "outputs": []
    },
    {
      "cell_type": "code",
      "source": [
        "import ipywidgets as widgets\n",
        "from ipywidgets import interact\n",
        "from bokeh.plotting import figure, show, output_notebook\n",
        "from bokeh.models import ColumnDataSource, ColorBar, LinearColorMapper, HoverTool, Label, BasicTicker, Range1d, FactorRange\n",
        "from bokeh.io import push_notebook\n",
        "from bokeh.layouts import row\n",
        "from bokeh.colors import RGB\n",
        "\n",
        "output_notebook()\n",
        "\n",
        "pd.set_option('future.no_silent_downcasting', True)\n",
        "\n",
        "# Transform BMI Category to numeric values:\n",
        "# 0 for 'Normal' and 'Normal Weight', 1 for 'Overweight', 2 for 'Obese'\n",
        "data[\"BMI Category\"] = data[\"BMI Category\"].replace({\n",
        "    \"Normal\": 0,\n",
        "    \"Normal Weight\": 0,\n",
        "    \"Overweight\": 1,\n",
        "    \"Obese\": 2\n",
        "})\n",
        "\n",
        "# Aggregation\n",
        "def process_data(metric):\n",
        "    grouped = data.groupby([\"Occupation\", metric, \"Gender\"]).size().unstack(fill_value=0)\n",
        "    grouped[\"Total\"] = grouped.sum(axis=1)\n",
        "    grouped[\"Male_Ratio\"] = grouped[\"Male\"] / grouped[\"Total\"]\n",
        "    grouped[\"Female_Ratio\"] = grouped[\"Female\"] / grouped[\"Total\"]\n",
        "    grouped[\"Size\"] = grouped[\"Total\"].clip(lower=7)\n",
        "    grouped = grouped.reset_index()\n",
        "    grouped.rename(columns={metric: \"Metric\"}, inplace=True)\n",
        "\n",
        "    def compute_rgb(male_ratio, female_ratio):\n",
        "        r = int(255 * female_ratio)\n",
        "        g = 0\n",
        "        b = int(255 * male_ratio)\n",
        "        return RGB(r, g, b)\n",
        "\n",
        "    grouped[\"Color\"] = grouped.apply(lambda row: compute_rgb(row[\"Male_Ratio\"], row[\"Female_Ratio\"]).to_hex(), axis=1)\n",
        "    return grouped\n",
        "\n",
        "# Process Sleep Disorder data for visualization\n",
        "def process_sleep_disorder():\n",
        "    disorder_mapping = {'NA': 'No Disorder', 'Insomnia': 'Insomnia', 'Sleep Apnea': 'Sleep Apnea'}\n",
        "    data[\"Sleep Disorder Category\"] = data[\"Sleep Disorder\"].map(disorder_mapping)\n",
        "\n",
        "    grouped = data.groupby([\"Occupation\", \"Sleep Disorder Category\", \"Gender\"]).size().unstack(fill_value=0)\n",
        "    grouped[\"Total\"] = grouped.sum(axis=1)\n",
        "    grouped[\"Male_Ratio\"] = grouped[\"Male\"] / grouped[\"Total\"]\n",
        "    grouped[\"Female_Ratio\"] = grouped[\"Female\"] / grouped[\"Total\"]\n",
        "    grouped[\"Size\"] = grouped[\"Total\"].clip(lower=7)\n",
        "    grouped = grouped.reset_index()\n",
        "\n",
        "    def compute_rgb(male_ratio, female_ratio):\n",
        "        r = int(255 * female_ratio)\n",
        "        g = 0\n",
        "        b = int(255 * male_ratio)\n",
        "        return RGB(r, g, b)\n",
        "\n",
        "    grouped[\"Color\"] = grouped.apply(lambda row: compute_rgb(row[\"Male_Ratio\"], row[\"Female_Ratio\"]).to_hex(), axis=1)\n",
        "\n",
        "    return ColumnDataSource(grouped)\n",
        "\n",
        "# Create figures\n",
        "source = ColumnDataSource(process_data(\"Quality of Sleep\"))\n",
        "p1 = figure(x_range=data[\"Occupation\"].unique(), x_axis_label=\"Occupation\", y_axis_label=\"Quality of Sleep\", width=500, height=500)\n",
        "\n",
        "p2 = figure(x_range=data[\"Occupation\"].unique(), y_range=['No Disorder', 'Insomnia', 'Sleep Apnea'], title = \"Sleep Disorder by Occupation\", x_axis_label=\"Occupation\", y_axis_label=\"Sleep Disorder\", width=600, height=500)\n",
        "\n",
        "# Define color mapper for color bar\n",
        "palette = [RGB(int(255 * (1 - i / 100)), 0, int(255 * (i / 100))).to_hex() for i in range(101)]\n",
        "mapper = LinearColorMapper(palette=palette, low=0, high=100)\n",
        "color_bar = ColorBar(color_mapper=mapper, location=(0, 0), ticker=BasicTicker(), width=30, height=400, label_standoff=10)\n",
        "p2.add_layout(color_bar, 'right')\n",
        "\n",
        "# Add labels\n",
        "p2.add_layout(Label(x=325, y=400 , x_units='screen', y_units='screen', text='100% Male', text_color='blue', text_font_size='9pt'))\n",
        "p2.add_layout(Label(x=315, y=5, x_units='screen', y_units='screen', text='100% Female', text_color='red', text_font_size='9pt'))\n",
        "\n",
        "# Add scatter plot\n",
        "p1.scatter(x=\"Occupation\", y=\"Metric\", size=\"Size\", color=\"Color\", source=source, alpha=1)\n",
        "\n",
        "# Create data source for Sleep Disorder plot\n",
        "source_p2 = process_sleep_disorder()\n",
        "# Add scatter plot to p2\n",
        "p2.scatter(x=\"Occupation\", y=\"Sleep Disorder Category\", size=\"Size\", color=\"Color\", source=source_p2, alpha=1)\n",
        "\n",
        "# Define y-axis ranges\n",
        "y_ranges = {\n",
        "    \"Quality of Sleep\": Range1d(0, 11),\n",
        "    \"Stress Level\": Range1d(0, 11),\n",
        "    \"Sleep Duration\": Range1d(4, 10),\n",
        "    \"Physical Activity Level\": Range1d(0, 100),\n",
        "    \"Daily Steps\": Range1d(0, 12000),\n",
        "    \"Heart Rate\": Range1d(40, 100),\n",
        "    \"BMI Category\": Range1d(-1, 3)  # Range for BMI Category (0 for 'Normal' and 'Normal Weight', 1 for 'Overweight', 2 for 'Obese')\n",
        "}\n",
        "\n",
        "def update_plot(metric):\n",
        "\n",
        "    # Process data based on the selected metric\n",
        "    new_data = process_data(metric)  # Process for the selected metric\n",
        "    source.data = new_data.to_dict(orient='list')  # Update data source\n",
        "\n",
        "    # Set the y_range based on predefined ranges for continuous metrics\n",
        "    p1.y_range = y_ranges.get(metric, Range1d(0, 11))  # Continuous range based on metric\n",
        "    p1.yaxis.axis_label = metric  # Update y-axis label for continuous axis\n",
        "\n",
        "    # Clear previous scatter plot and add new one\n",
        "    p1.renderers = []  # Clear existing renderers\n",
        "    p1.scatter(x=\"Occupation\", y=\"Metric\", size=\"Size\", color=\"Color\", source=source, alpha=1)  # Add new scatter plot\n",
        "\n",
        "    # Update the plot title dynamically based on the metric\n",
        "    p1.title.text = f\"{metric} by Occupation\"\n",
        "\n",
        "    # Tooltips for the hover tool\n",
        "    tooltips = [\n",
        "        ('Percentage of Female', '@Female_Ratio{0.0%}'),\n",
        "        ('Percentage of Male', '@Male_Ratio{0.0%}'),\n",
        "        ('Total', '@Total'),\n",
        "        (f'{metric}', f'@{{Metric}}')\n",
        "    ]\n",
        "\n",
        "    hover = HoverTool(tooltips=tooltips)\n",
        "    p1.tools = [hover]\n",
        "\n",
        "    push_notebook(handle=handle)  # Ensure the plot updates in the notebook\n",
        "\n",
        "# Interactive widget\n",
        "interact(update_plot, metric=widgets.Dropdown(options=[\"Quality of Sleep\", \"Stress Level\", \"Sleep Duration\", \"Physical Activity Level\", \"Daily Steps\", \"Heart Rate\", \"BMI Category\"], description=\"Choose parameter\", style={'description_width': 'initial'}))\n",
        "\n",
        "# Show initial plots\n",
        "handle = show(row(p1, p2), notebook_handle=True)\n",
        "\n"
      ],
      "metadata": {
        "id": "8Gj-E3Q8Ij3Y"
      },
      "execution_count": null,
      "outputs": []
    },
    {
      "cell_type": "markdown",
      "source": [
        "# Conclusions\n",
        "\n",
        "Female participants have better quality of sleep and lower stress level in most Occupation groups.\n",
        "\n",
        "Physical activily level, Daily steps and heart rate are highre for Male participants.\n",
        "\n",
        "BMI Category is the most important parameter for Sleep Disorder."
      ],
      "metadata": {
        "id": "oQCYSWcjkZaA"
      }
    }
  ]
}